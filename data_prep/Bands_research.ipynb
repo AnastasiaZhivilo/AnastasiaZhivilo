{
  "nbformat": 4,
  "nbformat_minor": 0,
  "metadata": {
    "colab": {
      "provenance": [],
      "mount_file_id": "1AQVibE3EZrTm7h2nQgDLOWfV6A3vXvWv",
      "authorship_tag": "ABX9TyNfO+8wLZH2BVE9jgB6jhV5",
      "include_colab_link": true
    },
    "kernelspec": {
      "name": "python3",
      "display_name": "Python 3"
    },
    "language_info": {
      "name": "python"
    }
  },
  "cells": [
    {
      "cell_type": "markdown",
      "metadata": {
        "id": "view-in-github",
        "colab_type": "text"
      },
      "source": [
        "<a href=\"https://colab.research.google.com/github/AnastasiaZhivilo/AnastasiaZhivilo/blob/main/data_prep/Bands_research.ipynb\" target=\"_parent\"><img src=\"https://colab.research.google.com/assets/colab-badge.svg\" alt=\"Open In Colab\"/></a>"
      ]
    },
    {
      "cell_type": "code",
      "execution_count": null,
      "metadata": {
        "id": "GvRVye4IWH_I"
      },
      "outputs": [],
      "source": [
        "import ee\n",
        "import folium\n",
        "import google.colab.drive as drive\n",
        "import geemap\n",
        "import os"
      ]
    },
    {
      "cell_type": "code",
      "source": [
        "ee.Authenticate()\n",
        "ee.Initialize(project='cs88-2-capstone')\n",
        "print(\"Earth Engine authenticated and initialized.\")"
      ],
      "metadata": {
        "id": "ax77SFlKYyU4"
      },
      "execution_count": null,
      "outputs": []
    },
    {
      "cell_type": "code",
      "source": [
        "drive.mount('/content/drive/')"
      ],
      "metadata": {
        "id": "eDDVIX3QZOOf"
      },
      "execution_count": null,
      "outputs": []
    },
    {
      "cell_type": "code",
      "source": [
        "\n",
        "drive_mount_path = '/content/drive'\n",
        "\n",
        "# 1. Define the central point\n",
        "center_lon = 146.9561\n",
        "center_lat = -34.7024\n",
        "center_point = ee.Geometry.Point(center_lon, center_lat)\n",
        "\n",
        "# 2. Define the size (radius) for the buffer in meters\n",
        "buffer_radius_meters = 2000  # 2 kilometers\n",
        "\n",
        "# 3. Create a geodesic buffer (circle) around the point\n",
        "circle_geometry = center_point.buffer(buffer_radius_meters)\n",
        "\n",
        "# 4. Get the Bounding Box (Rectangle) coordinates from the buffered geometry\n",
        "# .bounds() returns an ee.Geometry.Rectangle\n",
        "bounding_box_geom = circle_geometry.bounds()\n",
        "\n",
        "bbox_coords = bounding_box_geom.getInfo()['coordinates'][0]\n",
        "\n",
        "# 5. Set up a folder name for this bounding box\n",
        "folder_name = f\"BBox_{center_lon:.4f}_{center_lat:.4f}\".replace('.', '_').replace('-', '_')\n",
        "\n",
        "filepath = os.path.join(drive_mount_path, 'MyDrive', 'Capstone', folder_name)"
      ],
      "metadata": {
        "id": "x9Utnj_3YzIs"
      },
      "execution_count": null,
      "outputs": []
    },
    {
      "cell_type": "code",
      "source": [
        "def add_indices(image):\n",
        "    \"\"\"\n",
        "    Calculates NDVI and SAVI, and applies a smoothing filter to NDVI.\n",
        "    The resulting image will have the new bands: 'NDVI' (smoothed) and 'SAVI'.\n",
        "    \"\"\"\n",
        "    # 1. Calculate NDVI: (B8 - B4) / (B8 + B4)\n",
        "    ndvi = image.normalizedDifference(['B8', 'B4']).rename('NDVI_raw')\n",
        "\n",
        "    # 2. Smooth NDVI using a 3x3 median filter to reduce noise while preserving edges\n",
        "    # The kernel is set to a radius of 1 pixel, resulting in a 3x3 window (2*1 + 1)\n",
        "    ndvi_smoothed = ndvi.focal_median(radius=1, kernelType='square', units='pixels').rename('NDVI')\n",
        "\n",
        "    # 3. Calculate SAVI: Soil Adjusted Vegetation Index (L=0.5)\n",
        "    # SAVI = ((B8 - B4) / (B8 + B4 + L)) * (1 + L)\n",
        "    L = ee.Number(0.5)\n",
        "    savi = image.expression(\n",
        "        '((NIR - RED) / (NIR + RED + L)) * (1 + L)', {\n",
        "            'NIR': image.select('B8'),\n",
        "            'RED': image.select('B4'),\n",
        "            'L': L\n",
        "        }).rename('SAVI')\n",
        "\n",
        "    # --- 3. Normalized Difference Red-Edge (NDRE) ---\n",
        "    # Use B8 and B5 to check chlorophyll in dense canopies\n",
        "    ndre = image.normalizedDifference(['B8', 'B5']).rename('NDRE')\n",
        "\n",
        "        # --- 4. Bare Soil Index (BSI) ---\n",
        "    # Highlights bare soil using SWIR, Red, NIR, and Blue bands\n",
        "    bsi = image.expression(\n",
        "        '((B11 + B4) - (B8 + B2)) / ((B11 + B4) + (B8 + B2))', {\n",
        "        'B11': image.select('B11'),\n",
        "        'B4': image.select('B4'),\n",
        "        'B8': image.select('B8'),\n",
        "        'B2': image.select('B2')\n",
        "    }).rename('BSI')\n",
        "\n",
        "    # Return the original image with the two new derived bands\n",
        "    return image.addBands(ndvi_smoothed).addBands(savi).addBands(ndre).addBands(bsi).addBands(ndvi)\n",
        "\n",
        "\n",
        "# TARGET BANDS now includes the two new indices (Smoothed NDVI and SAVI)\n",
        "\n",
        "EXPORT_SCALE = 10  # 10 meters resolution\n",
        "\n",
        "# Define different date ranges for separate GeoTIFF exports\n",
        "# Adjusted for Southern Hemisphere (NSW Riverina Winter Crops)\n",
        "DATE_RANGES = [\n",
        "    # 1a. Canola Peak (Early Spring): Captures the bright yellow flowering stage\n",
        "    {'start': '2024-09-01', 'end': '2024-09-30', 'name_suffix': 'CanolaPeak'},\n",
        "\n",
        "    # 1b. Barley Senescence (Mid-Spring): Barley starts ripening, maximizing contrast with green wheat.\n",
        "    {'start': '2024-10-01', 'end': '2024-10-31', 'name_suffix': 'BarleySenescence'},\n",
        "\n",
        "    # 1c. Wheat Peak (Late Spring): Wheat is fully developed/filling, while barley is dry.\n",
        "    {'start': '2024-11-01', 'end': '2024-11-30', 'name_suffix': 'WheatPeak'},\n",
        "\n",
        "    # 2. Establishment/Early Growth (Winter): Sowing and Emergence stage\n",
        "    {'start': '2024-05-01', 'end': '2024-07-31', 'name_suffix': 'Emergence'},\n",
        "\n",
        "    # 3. Post-Harvest/Bare Earth (Summer): Fields are typically bare or harvested\n",
        "    {'start': '2023-12-01', 'end': '2024-02-29', 'name_suffix': 'BareEarth'}\n",
        "]"
      ],
      "metadata": {
        "id": "1XMqZIILbBqb"
      },
      "execution_count": null,
      "outputs": []
    },
    {
      "cell_type": "code",
      "source": [
        "def mask_s2_clouds(image):\n",
        "  \"\"\"Masks clouds in a Sentinel-2 image.\"\"\"\n",
        "  qa = image.select('QA60')\n",
        "  cloud_bit_mask = 1 << 10\n",
        "  cirrus_bit_mask = 1 << 11\n",
        "  mask = (\n",
        "      qa.bitwiseAnd(cloud_bit_mask).eq(0)\n",
        "      .And(qa.bitwiseAnd(cirrus_bit_mask).eq(0))\n",
        "  )\n",
        "  # Scale the image data by dividing by 10000 (0-1 range)\n",
        "  return image.updateMask(mask).divide(10000)"
      ],
      "metadata": {
        "id": "UDY5Qb6Db2Z8"
      },
      "execution_count": null,
      "outputs": []
    },
    {
      "cell_type": "code",
      "source": [
        "start_date = '2024-12-01'\n",
        "end_date = '2024-12-31'\n",
        "\n",
        "# 1. Filter and process the ImageCollection\n",
        "s2_collection = (\n",
        "    ee.ImageCollection('COPERNICUS/S2_SR_HARMONIZED')\n",
        "    .filterDate(start_date, end_date)\n",
        "    .filterBounds(bounding_box_geom)\n",
        "    .filter(ee.Filter.lt('CLOUDY_PIXEL_PERCENTAGE', 30))\n",
        "    .map(mask_s2_clouds)\n",
        "    # Add indices (NDVI, SAVI) and smooth NDVI\n",
        "    .map(add_indices)\n",
        ")\n",
        "\n",
        "\n",
        "############# Percentiles #################\n",
        "#2. Create the median composite and clip to the geometry\n",
        "mean_composite = s2_collection.median().clip(bounding_box_geom)\n",
        "#percentile_composite = s2_collection.reduce(ee.Reducer.percentile([5, 95])).clip(bounding_box_geom)\n",
        "\n",
        "TARGET_BANDS = ['SAVI','NDVI_raw','NDVI','BSI']\n",
        "\n",
        "# 3. Select only the required bands (now 6 total)\n",
        "final_image = mean_composite.select(TARGET_BANDS)\n",
        "\n",
        "########### NDVI std Dev ########\n",
        "# # 2. Create the Standard Deviation composite for NDVI and clip to the geometry\n",
        "# # Only select the NDVI band and apply the standard deviation reducer\n",
        "# ndvi_std_dev = (\n",
        "#     s2_collection\n",
        "#     .select('B8')\n",
        "#     .reduce(ee.Reducer.stdDev())\n",
        "#     .rename('NDVI_stdDev')\n",
        "#     .clip(bounding_box_geom)\n",
        "# )\n",
        "\n",
        "# # 3. Select only the required band(s)\n",
        "# # Since you only want the Standard Deviation of NDVI, this is the final image.\n",
        "# final_image = ndvi_std_dev.select(['NDVI_stdDev'])\n",
        "\n",
        "######################################\n",
        "\n",
        "visualization = {\n",
        "    'min': 0.03,\n",
        "    'max': 1,\n",
        "}\n",
        "\n",
        "final_image = mean_composite.select(['NDVI'])\n"
      ],
      "metadata": {
        "id": "gzEhxrGtbj4V"
      },
      "execution_count": null,
      "outputs": []
    },
    {
      "cell_type": "code",
      "source": [
        "\n",
        "\n",
        "Map = geemap.Map(center=[center_lat, center_lon], zoom=12)\n",
        "Map.addLayer(final_image, visualization, 'Median Sentinel-2 Image')\n",
        "Map.zoom_to_bounds(bounding_box_geom.bounds().getInfo().get('coordinates')[0])\n",
        "Map"
      ],
      "metadata": {
        "id": "ZsHAUXVibMln"
      },
      "execution_count": null,
      "outputs": []
    },
    {
      "cell_type": "code",
      "source": [
        "\n",
        "\n"
      ],
      "metadata": {
        "id": "p5rx5cwVcqEe"
      },
      "execution_count": null,
      "outputs": []
    },
    {
      "cell_type": "code",
      "source": [],
      "metadata": {
        "id": "ggLfEf0hdqbB"
      },
      "execution_count": null,
      "outputs": []
    }
  ]
}